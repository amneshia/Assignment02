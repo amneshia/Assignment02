{
 "cells": [
  {
   "cell_type": "code",
   "execution_count": 1,
   "id": "fddee914",
   "metadata": {},
   "outputs": [],
   "source": [
    "import pandas as pd\n",
    "from sklearn.datasets import fetch_olivetti_faces\n",
    "\n",
    "X,y = fetch_olivetti_faces(return_X_y=True)"
   ]
  },
  {
   "cell_type": "code",
   "execution_count": 2,
   "id": "b2260797",
   "metadata": {
    "scrolled": true
   },
   "outputs": [],
   "source": [
    "import numpy as np\n",
    "labels = pd.DataFrame(y).value_counts()\n",
    "labels = np.vectorize(lambda x: x[0])(labels.keys().values)"
   ]
  },
  {
   "cell_type": "code",
   "execution_count": 3,
   "id": "ed874b25",
   "metadata": {},
   "outputs": [
    {
     "data": {
      "text/plain": [
       "array([ 0,  1, 22, 23, 24, 25, 26, 27, 28, 29, 30, 31, 32, 33, 34, 35, 36,\n",
       "       37, 38, 21, 20, 19,  9,  2,  3,  4,  5,  6,  7,  8, 10, 18, 11, 12,\n",
       "       13, 14, 15, 16, 17, 39])"
      ]
     },
     "execution_count": 3,
     "metadata": {},
     "output_type": "execute_result"
    }
   ],
   "source": [
    "labels"
   ]
  },
  {
   "cell_type": "code",
   "execution_count": 4,
   "id": "aa1501eb",
   "metadata": {},
   "outputs": [],
   "source": [
    "from sklearn.model_selection import train_test_split\n",
    "# Given the scarcity of the dataset, an 80-20 ratio for train/test will be considered.\n",
    "X_train, X_test, y_train, y_test = train_test_split(X, y, test_size=0.2, shuffle=True,random_state=42,stratify=y)"
   ]
  },
  {
   "cell_type": "code",
   "execution_count": 5,
   "id": "46e18fc2",
   "metadata": {
    "scrolled": true
   },
   "outputs": [
    {
     "name": "stdout",
     "output_type": "stream",
     "text": [
      "0.925\n",
      "0.975\n",
      "0.95\n",
      "0.925\n",
      "0.925\n",
      "0.975\n",
      "0.95\n",
      "0.875\n",
      "Average score: 0.9375\n"
     ]
    }
   ],
   "source": [
    "from sklearn.model_selection import StratifiedKFold\n",
    "from sklearn.neural_network import MLPClassifier\n",
    "from sklearn.metrics import accuracy_score\n",
    "from sklearn.pipeline import Pipeline\n",
    "from sklearn.preprocessing import StandardScaler\n",
    "\n",
    "# With 8 samples available for each person for training, We set the n_splits=8 , so for each split, we'll\n",
    "# have 7 records per person to train and 1 record to validate with.\n",
    "skf = StratifiedKFold(n_splits=8,shuffle=True,random_state=42)\n",
    "clf = Pipeline([\n",
    "    (\"scaler\", StandardScaler()),\n",
    "    (\"nn\", MLPClassifier(solver='adam', activation='tanh',hidden_layer_sizes=(80,60,40,40), random_state=42,max_iter=2000))\n",
    "])\n",
    "\n",
    "scores = []\n",
    "for train_index, test_index in skf.split(X_train,y_train):\n",
    "    X_train_batch, X_test_batch = X_train[train_index], X_train[test_index]\n",
    "    y_train_batch, y_test_batch = y_train[train_index], y_train[test_index]\n",
    "    clf.fit(X_train_batch,y_train_batch)\n",
    "    pred = clf.predict(X_test_batch)\n",
    "    score = accuracy_score(y_test_batch, pred)\n",
    "    scores.append(score)\n",
    "    print(score)\n",
    "    \n",
    "print(f'Average score: {np.mean(scores)}')"
   ]
  },
  {
   "cell_type": "code",
   "execution_count": 6,
   "id": "1aabad20",
   "metadata": {},
   "outputs": [],
   "source": [
    "pred = clf.predict(X_test)\n",
    "score = accuracy_score(y_test, pred)"
   ]
  },
  {
   "cell_type": "code",
   "execution_count": 7,
   "id": "58c9a710",
   "metadata": {
    "scrolled": false
   },
   "outputs": [
    {
     "data": {
      "text/plain": [
       "0.9375"
      ]
     },
     "execution_count": 7,
     "metadata": {},
     "output_type": "execute_result"
    }
   ],
   "source": [
    "score"
   ]
  },
  {
   "cell_type": "code",
   "execution_count": 8,
   "id": "19ec07c2",
   "metadata": {
    "scrolled": false
   },
   "outputs": [
    {
     "name": "stdout",
     "output_type": "stream",
     "text": [
      "For n_clusters = 100 The average silhouette_score is : 0.20087983\n",
      "For n_clusters = 105 The average silhouette_score is : 0.1982236\n",
      "For n_clusters = 110 The average silhouette_score is : 0.2061122\n",
      "For n_clusters = 115 The average silhouette_score is : 0.20534869\n",
      "For n_clusters = 120 The average silhouette_score is : 0.1966263\n",
      "For n_clusters = 125 The average silhouette_score is : 0.21473378\n"
     ]
    }
   ],
   "source": [
    "from sklearn.metrics import silhouette_samples, silhouette_score\n",
    "from sklearn.cluster import KMeans\n",
    "\n",
    "# For the first iteration the range(2,400,20) where considered,\n",
    "# For the second iteration, the values from the highest scores\n",
    "# in the range(100,130,5) were considered.\n",
    "range_n_clusters = range(100,130,5)\n",
    "\n",
    "silhouette_scores = {}\n",
    "for n_clusters in range_n_clusters:\n",
    "    clusterer = KMeans(n_clusters=n_clusters, random_state=42)\n",
    "    cluster_labels = clusterer.fit_predict(X)\n",
    "    silhouette_avg = silhouette_score(X, cluster_labels)\n",
    "    print(\"For n_clusters =\", n_clusters, \"The average silhouette_score is :\", silhouette_avg)\n",
    "    silhouette_scores[n_clusters] = silhouette_avg\n",
    "\n",
    "best_num_clusters = max(silhouette_scores, key=silhouette_scores.get)    "
   ]
  },
  {
   "cell_type": "code",
   "execution_count": 9,
   "id": "0d4a0ca5",
   "metadata": {},
   "outputs": [
    {
     "data": {
      "text/plain": [
       "125"
      ]
     },
     "execution_count": 9,
     "metadata": {},
     "output_type": "execute_result"
    }
   ],
   "source": [
    "best_num_clusters"
   ]
  },
  {
   "cell_type": "code",
   "execution_count": 10,
   "id": "50fa1b5e",
   "metadata": {},
   "outputs": [],
   "source": [
    "clusterer = KMeans(n_clusters=best_num_clusters, random_state=42)\n",
    "cluster_labels = clusterer.fit_predict(X)"
   ]
  },
  {
   "cell_type": "code",
   "execution_count": 12,
   "id": "fdc2e638",
   "metadata": {},
   "outputs": [],
   "source": [
    "X_train_new = clusterer.transform(X_train)\n",
    "X_test_new = clusterer.transform(X_test)"
   ]
  },
  {
   "cell_type": "code",
   "execution_count": 22,
   "id": "659525e0",
   "metadata": {},
   "outputs": [
    {
     "name": "stdout",
     "output_type": "stream",
     "text": [
      "0.875\n",
      "0.975\n",
      "0.925\n",
      "0.875\n",
      "1.0\n",
      "0.95\n",
      "0.975\n",
      "0.95\n",
      "Average score: 0.940625\n"
     ]
    }
   ],
   "source": [
    "clf_new = Pipeline([\n",
    "    (\"scaler\", StandardScaler()),\n",
    "    (\"nn\", MLPClassifier(solver='adam', activation='tanh',hidden_layer_sizes=(80,60,40,40), random_state=42,max_iter=1000))\n",
    "])\n",
    "\n",
    "scores = []\n",
    "for train_index, test_index in skf.split(X_train_new,y_train):\n",
    "    X_train_batch, X_test_batch = X_train_new[train_index], X_train_new[test_index]\n",
    "    y_train_batch, y_test_batch = y_train[train_index], y_train[test_index]\n",
    "    clf_new.fit(X_train_batch,y_train_batch)\n",
    "    pred = clf_new.predict(X_test_batch)\n",
    "    score = accuracy_score(y_test_batch, pred)\n",
    "    scores.append(score)\n",
    "    print(score)\n",
    "    \n",
    "print(f'Average score: {np.mean(scores)}')"
   ]
  },
  {
   "cell_type": "code",
   "execution_count": 23,
   "id": "813d35c1",
   "metadata": {},
   "outputs": [],
   "source": [
    "pred = clf_new.predict(X_test_new)\n",
    "score = accuracy_score(y_test, pred)"
   ]
  },
  {
   "cell_type": "code",
   "execution_count": 24,
   "id": "bd501d11",
   "metadata": {},
   "outputs": [
    {
     "data": {
      "text/plain": [
       "0.9"
      ]
     },
     "execution_count": 24,
     "metadata": {},
     "output_type": "execute_result"
    }
   ],
   "source": [
    "score"
   ]
  },
  {
   "cell_type": "code",
   "execution_count": null,
   "id": "1a197e24",
   "metadata": {},
   "outputs": [],
   "source": []
  }
 ],
 "metadata": {
  "kernelspec": {
   "display_name": "Python 3",
   "language": "python",
   "name": "python3"
  },
  "language_info": {
   "codemirror_mode": {
    "name": "ipython",
    "version": 3
   },
   "file_extension": ".py",
   "mimetype": "text/x-python",
   "name": "python",
   "nbconvert_exporter": "python",
   "pygments_lexer": "ipython3",
   "version": "3.8.8"
  }
 },
 "nbformat": 4,
 "nbformat_minor": 5
}
